{
 "cells": [
  {
   "cell_type": "markdown",
   "metadata": {},
   "source": [
    "# Scanning Astra evaluations"
   ]
  },
  {
   "cell_type": "code",
   "execution_count": 1,
   "metadata": {},
   "outputs": [],
   "source": [
    "from astra import Astra\n",
    "from astra.evaluate import evaluate_astra\n",
    "from tempfile import mkdtemp\n",
    "from concurrent.futures import ProcessPoolExecutor as Executor\n",
    "from itertools import product\n",
    "import matplotlib.pyplot as plt\n",
    "import numpy as np\n",
    "import os\n",
    "import logging\n",
    "import json"
   ]
  },
  {
   "cell_type": "code",
   "execution_count": 2,
   "metadata": {},
   "outputs": [],
   "source": [
    "ASTRA_INPUT_FILE = 'astra.in'\n",
    "ASTRA_INPUT_DEFAULT_PARAMETERS = Astra(ASTRA_INPUT_FILE).input\n",
    "ASTRA_INPUT_VARIABLE_PARAMETERS = {\n",
    "    'maxb(2)': [0., 0.1, 0.01],\n",
    "    'maxe(4)': [-15., 0., 0.1],\n",
    "}\n",
    "SCRATCH_DIR = 'tmp700uv792'\n",
    "LOG_FILE = os.path.join(SCRATCH_DIR, 'evaluation_logs.log')\n",
    "CACHE_FILE = os.path.join(SCRATCH_DIR, 'evaluation_cache.json')"
   ]
  },
  {
   "cell_type": "code",
   "execution_count": 3,
   "metadata": {},
   "outputs": [],
   "source": [
    "logging.basicConfig(level=logging.DEBUG, \n",
    "                    format='%(asctime)s - %(levelname)s - %(message)s',\n",
    "                    handlers=[\n",
    "                        logging.FileHandler(LOG_FILE),\n",
    "                    ])\n",
    "logger = logging.getLogger(__name__)"
   ]
  },
  {
   "cell_type": "code",
   "execution_count": 4,
   "metadata": {},
   "outputs": [],
   "source": [
    "def load_cache(cache_file):\n",
    "    if os.path.exists(cache_file):\n",
    "        with open(cache_file, 'r') as f:\n",
    "            evaluation_cache = json.load(f)\n",
    "        logger.info(\"Cache loaded successfully.\")\n",
    "    else:\n",
    "        evaluation_cache = {}\n",
    "        logger.info(\"No cache file found. Starting with an empty cache.\")\n",
    "    return evaluation_cache"
   ]
  },
  {
   "cell_type": "code",
   "execution_count": 5,
   "metadata": {},
   "outputs": [],
   "source": [
    "def save_cache(evaluation_cache, cache_file):\n",
    "    with open(cache_file, 'w') as f:\n",
    "        json.dump(evaluation_cache, f)\n",
    "    logger.info(\"Cache saved successfully.\")"
   ]
  },
  {
   "cell_type": "code",
   "execution_count": 6,
   "metadata": {},
   "outputs": [],
   "source": [
    "def find_key_recursive(d, key):\n",
    "  if key in d:\n",
    "    return d[key]\n",
    "  for k, v in d.items():\n",
    "    if type(v) is dict:\n",
    "      value = find_key_recursive(v, key)\n",
    "      if value is not None:\n",
    "        return value\n",
    "\n",
    "\n",
    "def initialize_cache_from_existing_archives(evaluation_cache, scratch_dir):\n",
    "    archives = [f for f in os.listdir(scratch_dir) if f.endswith('.h5')]\n",
    "    for archive in archives:\n",
    "        try:\n",
    "            astra = Astra.from_archive(os.path.join(scratch_dir, archive))\n",
    "            settings_key = str({key: find_key_recursive(astra.input, key) for key in ASTRA_INPUT_VARIABLE_PARAMETERS})\n",
    "            if settings_key not in evaluation_cache:\n",
    "                evaluation_cache[settings_key] = archive\n",
    "                logger.info(f\"Added {archive} to cache with key: {settings_key}\")\n",
    "        except Exception as e:\n",
    "            logger.error(f\"Error processing archive {archive}: {e}\")\n",
    "    return evaluation_cache"
   ]
  },
  {
   "cell_type": "code",
   "execution_count": 7,
   "metadata": {},
   "outputs": [],
   "source": [
    "evaluation_cache = load_cache(CACHE_FILE)"
   ]
  },
  {
   "cell_type": "code",
   "execution_count": 8,
   "metadata": {},
   "outputs": [],
   "source": [
    "# evaluation_cache = initialize_cache_from_existing_archives(load_cache(CACHE_FILE), SCRATCH_DIR)"
   ]
  },
  {
   "cell_type": "code",
   "execution_count": 9,
   "metadata": {},
   "outputs": [],
   "source": [
    "save_cache(evaluation_cache, CACHE_FILE)"
   ]
  },
  {
   "cell_type": "code",
   "execution_count": 10,
   "metadata": {},
   "outputs": [],
   "source": [
    "def evaluate(settings, evaluation_cache):\n",
    "    logger.debug(f\"Evaluating settings: {settings}\")\n",
    "\n",
    "    settings_key = str(settings)\n",
    "\n",
    "    if settings_key in evaluation_cache:\n",
    "        logger.info(f\"Using cached result for settings: {settings}\")\n",
    "    else:    \n",
    "        try:\n",
    "            output = evaluate_astra(settings, astra_input_file=ASTRA_INPUT_FILE, archive_path=SCRATCH_DIR)\n",
    "            logger.info(f\"Evaluation successful for settings: {settings}, Archive: {output['archive']}\")\n",
    "            evaluation_cache[settings_key] = output['archive']\n",
    "            save_cache(evaluation_cache, CACHE_FILE)\n",
    "        except Exception as e:\n",
    "            logger.error(f\"Error evaluating settings: {settings}, Exception: {e}\")"
   ]
  },
  {
   "cell_type": "code",
   "execution_count": 11,
   "metadata": {},
   "outputs": [],
   "source": [
    "def generate_parameter_values(parameters):\n",
    "    param_values = {}\n",
    "    for param, bounds in parameters.items():\n",
    "        param_values[param] = np.arange(bounds[0], bounds[1], bounds[2])\n",
    "    return param_values"
   ]
  },
  {
   "cell_type": "code",
   "execution_count": 13,
   "metadata": {},
   "outputs": [],
   "source": [
    "def generate_settings_combinations(param_values):\n",
    "    keys = list(param_values.keys())\n",
    "    values_combinations = list(product(*param_values.values()))\n",
    "    \n",
    "    settings_list = []\n",
    "    for combination in values_combinations:\n",
    "        settings = dict(zip(keys, combination))\n",
    "        settings_list.append(settings)\n",
    "    \n",
    "    return settings_list"
   ]
  },
  {
   "cell_type": "code",
   "execution_count": 14,
   "metadata": {},
   "outputs": [],
   "source": [
    "param_values = generate_parameter_values(ASTRA_INPUT_VARIABLE_PARAMETERS)\n",
    "settings_combinations = generate_settings_combinations(param_values)"
   ]
  },
  {
   "cell_type": "code",
   "execution_count": null,
   "metadata": {},
   "outputs": [],
   "source": [
    "with Executor() as executor:\n",
    "    outputs = list(executor.map(evaluate, settings_combinations, evaluation_cache))"
   ]
  },
  {
   "cell_type": "code",
   "execution_count": null,
   "metadata": {},
   "outputs": [],
   "source": []
  }
 ],
 "metadata": {
  "kernelspec": {
   "display_name": "Python 3 (ipykernel)",
   "language": "python",
   "name": "python3"
  },
  "language_info": {
   "codemirror_mode": {
    "name": "ipython",
    "version": 3
   },
   "file_extension": ".py",
   "mimetype": "text/x-python",
   "name": "python",
   "nbconvert_exporter": "python",
   "pygments_lexer": "ipython3",
   "version": "3.11.9"
  },
  "vscode": {
   "interpreter": {
    "hash": "6d03fce94a11c73dea1695392ee56e7f433fe1c4db87f5351f52c08d53a6c5e5"
   }
  }
 },
 "nbformat": 4,
 "nbformat_minor": 4
}
