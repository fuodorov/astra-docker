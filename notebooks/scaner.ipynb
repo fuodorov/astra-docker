{
 "cells": [
  {
   "cell_type": "markdown",
   "metadata": {},
   "source": [
    "# Scanning Astra evaluations"
   ]
  },
  {
   "cell_type": "code",
   "execution_count": 1,
   "metadata": {},
   "outputs": [],
   "source": [
    "from astra.evaluate import evaluate_astra\n",
    "from tempfile import mkdtemp\n",
    "from concurrent.futures import ProcessPoolExecutor as Executor\n",
    "from itertools import product\n",
    "import matplotlib.pyplot as plt\n",
    "import numpy as np\n",
    "import os\n",
    "import logging"
   ]
  },
  {
   "cell_type": "code",
   "execution_count": 2,
   "metadata": {},
   "outputs": [],
   "source": [
    "ASTRA_INPUT_FILENAME = 'astra.in'\n",
    "ASTRA_INPUT_PARAMETERS = {\n",
    "    'maxb(2)': [0., 0.1, 0.01],\n",
    "    'maxe(4)': [-15., 0., 0.1]\n",
    "}\n",
    "SCRATCH_DIR = mkdtemp(dir='.')\n",
    "LOG_FILENAME = 'evaluation.log'"
   ]
  },
  {
   "cell_type": "code",
   "execution_count": 3,
   "metadata": {},
   "outputs": [],
   "source": [
    "logging.basicConfig(level=logging.DEBUG, \n",
    "                    format='%(asctime)s - %(levelname)s - %(message)s',\n",
    "                    handlers=[\n",
    "                        logging.FileHandler(os.path.join(SCRATCH_DIR, LOG_FILENAME)),\n",
    "                        logging.StreamHandler()\n",
    "                    ])\n",
    "logger = logging.getLogger(__name__)"
   ]
  },
  {
   "cell_type": "code",
   "execution_count": 4,
   "metadata": {},
   "outputs": [],
   "source": [
    "def generate_parameter_values(parameters):\n",
    "    param_values = {}\n",
    "    for param, bounds in parameters.items():\n",
    "        param_values[param] = np.arange(bounds[0], bounds[1], bounds[2])\n",
    "    return param_values"
   ]
  },
  {
   "cell_type": "code",
   "execution_count": 5,
   "metadata": {},
   "outputs": [],
   "source": [
    "def evaluate(settings):\n",
    "    logger.debug(f\"Evaluating settings: {settings}\")\n",
    "    try:\n",
    "        output = evaluate_astra(settings, astra_input_file=ASTRA_INPUT_FILENAME, archive_path=SCRATCH_DIR)\n",
    "        logger.info(f\"Evaluation successful for settings: {settings}, Archive: {output['archive']}\")\n",
    "    except Exception as e:\n",
    "        logger.error(f\"Error evaluating settings: {settings}, Exception: {e}\")"
   ]
  },
  {
   "cell_type": "code",
   "execution_count": 6,
   "metadata": {},
   "outputs": [],
   "source": [
    "def generate_settings_combinations(param_values):\n",
    "    keys = list(param_values.keys())\n",
    "    values_combinations = list(product(*param_values.values()))\n",
    "    \n",
    "    settings_list = []\n",
    "    for combination in values_combinations:\n",
    "        settings = dict(zip(keys, combination))\n",
    "        settings_list.append(settings)\n",
    "    \n",
    "    return settings_list"
   ]
  },
  {
   "cell_type": "code",
   "execution_count": 7,
   "metadata": {},
   "outputs": [],
   "source": [
    "param_values = generate_parameter_values(ASTRA_INPUT_PARAMETERS)\n",
    "settings_combinations = generate_settings_combinations(param_values)"
   ]
  },
  {
   "cell_type": "code",
   "execution_count": null,
   "metadata": {},
   "outputs": [
    {
     "name": "stderr",
     "output_type": "stream",
     "text": [
      "2024-06-05 01:05:21,456 - DEBUG - Evaluating settings: {'maxb(2)': 0.0, 'maxe(4)': -15.0}\n",
      "2024-06-05 01:05:21,456 - DEBUG - Evaluating settings: {'maxb(2)': 0.0, 'maxe(4)': -14.9}\n",
      "2024-06-05 01:05:21,456 - DEBUG - Evaluating settings: {'maxb(2)': 0.0, 'maxe(4)': -14.8}\n",
      "2024-06-05 01:05:21,457 - DEBUG - Evaluating settings: {'maxb(2)': 0.0, 'maxe(4)': -14.700000000000001}\n",
      "2024-06-05 01:05:21,457 - DEBUG - Evaluating settings: {'maxb(2)': 0.0, 'maxe(4)': -14.500000000000002}\n",
      "2024-06-05 01:05:21,457 - DEBUG - Evaluating settings: {'maxb(2)': 0.0, 'maxe(4)': -14.400000000000002}\n",
      "2024-06-05 01:05:21,457 - DEBUG - Evaluating settings: {'maxb(2)': 0.0, 'maxe(4)': -14.600000000000001}\n",
      "2024-06-05 01:05:21,457 - DEBUG - Evaluating settings: {'maxb(2)': 0.0, 'maxe(4)': -14.300000000000002}\n",
      "2024-06-05 01:05:21,458 - DEBUG - Evaluating settings: {'maxb(2)': 0.0, 'maxe(4)': -13.800000000000004}\n",
      "2024-06-05 01:05:21,458 - DEBUG - Evaluating settings: {'maxb(2)': 0.0, 'maxe(4)': -13.900000000000004}\n",
      "2024-06-05 01:05:21,458 - DEBUG - Evaluating settings: {'maxb(2)': 0.0, 'maxe(4)': -14.200000000000003}\n",
      "2024-06-05 01:05:21,458 - DEBUG - Evaluating settings: {'maxb(2)': 0.0, 'maxe(4)': -14.100000000000003}\n",
      "2024-06-05 01:05:21,459 - DEBUG - Evaluating settings: {'maxb(2)': 0.0, 'maxe(4)': -13.700000000000005}\n",
      "2024-06-05 01:05:21,459 - DEBUG - Evaluating settings: {'maxb(2)': 0.0, 'maxe(4)': -13.600000000000005}\n",
      "2024-06-05 01:05:21,458 - DEBUG - Evaluating settings: {'maxb(2)': 0.0, 'maxe(4)': -14.000000000000004}\n",
      "2024-06-05 01:05:21,459 - DEBUG - Evaluating settings: {'maxb(2)': 0.0, 'maxe(4)': -13.500000000000005}\n",
      "2024-06-05 01:15:37,956 - DEBUG - Creating converter from 5 to 3\n",
      "2024-06-05 01:15:39,614 - DEBUG - Creating converter from 5 to 3\n",
      "2024-06-05 01:15:39,705 - INFO - Evaluation successful for settings: {'maxb(2)': 0.0, 'maxe(4)': -14.600000000000001}, Archive: /home/jovyan/work/linac/tmp700uv792/9ee09b28407d2ce76619b9e551b3c514.h5\n",
      "2024-06-05 01:15:39,724 - DEBUG - Evaluating settings: {'maxb(2)': 0.0, 'maxe(4)': -13.400000000000006}\n",
      "2024-06-05 01:15:39,824 - DEBUG - Creating converter from 5 to 3\n",
      "2024-06-05 01:15:41,307 - INFO - Evaluation successful for settings: {'maxb(2)': 0.0, 'maxe(4)': -14.9}, Archive: /home/jovyan/work/linac/tmp700uv792/6096c8956989611411984f72140f53d2.h5\n",
      "2024-06-05 01:15:41,331 - DEBUG - Evaluating settings: {'maxb(2)': 0.0, 'maxe(4)': -13.300000000000006}\n",
      "2024-06-05 01:15:41,590 - INFO - Evaluation successful for settings: {'maxb(2)': 0.0, 'maxe(4)': -14.400000000000002}, Archive: /home/jovyan/work/linac/tmp700uv792/64b0add9d0a2fd6e3f8d1f85a068d774.h5\n",
      "2024-06-05 01:15:41,593 - DEBUG - Evaluating settings: {'maxb(2)': 0.0, 'maxe(4)': -13.200000000000006}\n",
      "2024-06-05 01:15:44,385 - DEBUG - Creating converter from 5 to 3\n",
      "2024-06-05 01:15:45,952 - INFO - Evaluation successful for settings: {'maxb(2)': 0.0, 'maxe(4)': -14.500000000000002}, Archive: /home/jovyan/work/linac/tmp700uv792/815cf5d629aee47adab596b6815bc156.h5\n",
      "2024-06-05 01:15:45,955 - DEBUG - Evaluating settings: {'maxb(2)': 0.0, 'maxe(4)': -13.100000000000007}\n",
      "2024-06-05 01:15:49,001 - DEBUG - Creating converter from 5 to 3\n",
      "2024-06-05 01:15:49,108 - DEBUG - Creating converter from 5 to 3\n",
      "2024-06-05 01:15:49,594 - DEBUG - Creating converter from 5 to 3\n",
      "2024-06-05 01:15:50,148 - DEBUG - Creating converter from 5 to 3\n",
      "2024-06-05 01:15:51,339 - INFO - Evaluation successful for settings: {'maxb(2)': 0.0, 'maxe(4)': -14.300000000000002}, Archive: /home/jovyan/work/linac/tmp700uv792/390be7b117928d227080aab92fe8407a.h5\n",
      "2024-06-05 01:15:51,342 - DEBUG - Evaluating settings: {'maxb(2)': 0.0, 'maxe(4)': -13.000000000000007}\n",
      "2024-06-05 01:15:51,384 - INFO - Evaluation successful for settings: {'maxb(2)': 0.0, 'maxe(4)': -14.100000000000003}, Archive: /home/jovyan/work/linac/tmp700uv792/e3a9ec30a736d090a7d22d78b2578af3.h5\n",
      "2024-06-05 01:15:51,387 - DEBUG - Evaluating settings: {'maxb(2)': 0.0, 'maxe(4)': -12.900000000000007}\n",
      "2024-06-05 01:15:51,479 - DEBUG - Creating converter from 5 to 3\n",
      "2024-06-05 01:15:51,808 - INFO - Evaluation successful for settings: {'maxb(2)': 0.0, 'maxe(4)': -14.200000000000003}, Archive: /home/jovyan/work/linac/tmp700uv792/1417924ddc2b19f21f9f428a8a99917e.h5\n",
      "2024-06-05 01:15:51,811 - DEBUG - Evaluating settings: {'maxb(2)': 0.0, 'maxe(4)': -12.800000000000008}\n",
      "2024-06-05 01:15:52,236 - DEBUG - Creating converter from 5 to 3\n",
      "2024-06-05 01:15:52,254 - INFO - Evaluation successful for settings: {'maxb(2)': 0.0, 'maxe(4)': -14.8}, Archive: /home/jovyan/work/linac/tmp700uv792/1fde480c1b1b78492023f24fa56dc5c0.h5\n",
      "2024-06-05 01:15:52,293 - DEBUG - Evaluating settings: {'maxb(2)': 0.0, 'maxe(4)': -12.700000000000008}\n",
      "2024-06-05 01:15:52,708 - DEBUG - Creating converter from 5 to 3\n",
      "2024-06-05 01:15:53,437 - INFO - Evaluation successful for settings: {'maxb(2)': 0.0, 'maxe(4)': -15.0}, Archive: /home/jovyan/work/linac/tmp700uv792/b4812a3a7e0e39d8c037b827b901ef22.h5\n",
      "2024-06-05 01:15:53,440 - DEBUG - Evaluating settings: {'maxb(2)': 0.0, 'maxe(4)': -12.600000000000009}\n",
      "2024-06-05 01:15:53,623 - DEBUG - Creating converter from 5 to 3\n",
      "2024-06-05 01:15:54,294 - INFO - Evaluation successful for settings: {'maxb(2)': 0.0, 'maxe(4)': -14.700000000000001}, Archive: /home/jovyan/work/linac/tmp700uv792/7dcb86b019ac06a6b6e97613fdec92e0.h5\n",
      "2024-06-05 01:15:54,297 - DEBUG - Evaluating settings: {'maxb(2)': 0.0, 'maxe(4)': -12.500000000000009}\n",
      "2024-06-05 01:15:54,439 - DEBUG - Creating converter from 5 to 3\n",
      "2024-06-05 01:15:54,796 - INFO - Evaluation successful for settings: {'maxb(2)': 0.0, 'maxe(4)': -13.900000000000004}, Archive: /home/jovyan/work/linac/tmp700uv792/558e5fd77e12fdee7a90b145becc3402.h5\n",
      "2024-06-05 01:15:54,799 - DEBUG - Evaluating settings: {'maxb(2)': 0.0, 'maxe(4)': -12.40000000000001}\n",
      "2024-06-05 01:15:55,718 - INFO - Evaluation successful for settings: {'maxb(2)': 0.0, 'maxe(4)': -14.000000000000004}, Archive: /home/jovyan/work/linac/tmp700uv792/4247dea5f222e95b28e635d8a570fef3.h5\n",
      "2024-06-05 01:15:55,721 - DEBUG - Evaluating settings: {'maxb(2)': 0.0, 'maxe(4)': -12.30000000000001}\n",
      "2024-06-05 01:15:56,442 - INFO - Evaluation successful for settings: {'maxb(2)': 0.0, 'maxe(4)': -13.700000000000005}, Archive: /home/jovyan/work/linac/tmp700uv792/5c8f6b05e56deac46f6bc065b702cd39.h5\n",
      "2024-06-05 01:15:56,445 - DEBUG - Evaluating settings: {'maxb(2)': 0.0, 'maxe(4)': -12.20000000000001}\n",
      "2024-06-05 01:15:56,706 - DEBUG - Creating converter from 5 to 3\n",
      "2024-06-05 01:15:58,725 - INFO - Evaluation successful for settings: {'maxb(2)': 0.0, 'maxe(4)': -13.800000000000004}, Archive: /home/jovyan/work/linac/tmp700uv792/117d13b15345c102a59ec832b36cd5b7.h5\n",
      "2024-06-05 01:15:58,727 - DEBUG - Evaluating settings: {'maxb(2)': 0.0, 'maxe(4)': -12.10000000000001}\n",
      "2024-06-05 01:16:00,204 - DEBUG - Creating converter from 5 to 3\n",
      "2024-06-05 01:16:00,666 - DEBUG - Creating converter from 5 to 3\n",
      "2024-06-05 01:16:02,461 - INFO - Evaluation successful for settings: {'maxb(2)': 0.0, 'maxe(4)': -13.600000000000005}, Archive: /home/jovyan/work/linac/tmp700uv792/3de4465d8c2d641a725b3f23c8db30b8.h5\n",
      "2024-06-05 01:16:02,465 - DEBUG - Evaluating settings: {'maxb(2)': 0.0, 'maxe(4)': -12.00000000000001}\n",
      "2024-06-05 01:16:02,996 - INFO - Evaluation successful for settings: {'maxb(2)': 0.0, 'maxe(4)': -13.500000000000005}, Archive: /home/jovyan/work/linac/tmp700uv792/b134f2b20277010e7d1a3cead2b2883f.h5\n",
      "2024-06-05 01:16:02,998 - DEBUG - Evaluating settings: {'maxb(2)': 0.0, 'maxe(4)': -11.900000000000011}\n"
     ]
    }
   ],
   "source": [
    "with Executor() as executor:\n",
    "    outputs = list(executor.map(evaluate, settings_combinations))"
   ]
  },
  {
   "cell_type": "code",
   "execution_count": null,
   "metadata": {},
   "outputs": [],
   "source": []
  }
 ],
 "metadata": {
  "kernelspec": {
   "display_name": "Python 3 (ipykernel)",
   "language": "python",
   "name": "python3"
  },
  "language_info": {
   "codemirror_mode": {
    "name": "ipython",
    "version": 3
   },
   "file_extension": ".py",
   "mimetype": "text/x-python",
   "name": "python",
   "nbconvert_exporter": "python",
   "pygments_lexer": "ipython3",
   "version": "3.11.9"
  },
  "vscode": {
   "interpreter": {
    "hash": "6d03fce94a11c73dea1695392ee56e7f433fe1c4db87f5351f52c08d53a6c5e5"
   }
  }
 },
 "nbformat": 4,
 "nbformat_minor": 4
}
