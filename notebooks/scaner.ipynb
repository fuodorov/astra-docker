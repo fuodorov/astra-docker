{
 "cells": [
  {
   "cell_type": "markdown",
   "metadata": {},
   "source": [
    "# Astra evaluations"
   ]
  },
  {
   "cell_type": "markdown",
   "metadata": {},
   "source": [
    "## ASTRA"
   ]
  },
  {
   "cell_type": "code",
   "execution_count": null,
   "metadata": {},
   "outputs": [],
   "source": [
    "from astra.evaluate import evaluate_astra\n",
    "from tempfile import TemporaryDirectory\n",
    "from concurrent.futures import ProcessPoolExecutor as Executor\n",
    "import matplotlib.pyplot as plt\n",
    "import numpy as np\n",
    "from itertools import product\n",
    "import os"
   ]
  },
  {
   "cell_type": "code",
   "execution_count": null,
   "metadata": {},
   "outputs": [],
   "source": [
    "ASTRA_IN = 'astra.in'\n",
    "PARAMETERS = {\n",
    "    'maxb(2)': [0., 0.08, 0.01],\n",
    "    'maxe(4)': [-15., 0., 1]\n",
    "}"
   ]
  },
  {
   "cell_type": "code",
   "execution_count": null,
   "metadata": {},
   "outputs": [],
   "source": [
    "SCRATCH = TemporaryDirectory(dir='.')"
   ]
  },
  {
   "cell_type": "code",
   "execution_count": 29,
   "metadata": {},
   "outputs": [],
   "source": [
    "def generate_parameter_values(parameters):\n",
    "    param_values = {}\n",
    "    for param, bounds in parameters.items():\n",
    "        param_values[param] = np.arange(bounds[0], bounds[1], bounds[2])\n",
    "    return param_values"
   ]
  },
  {
   "cell_type": "code",
   "execution_count": 30,
   "metadata": {},
   "outputs": [],
   "source": [
    "def evaluate(settings):\n",
    "    try:\n",
    "        output = evaluate_astra(settings, astra_input_file=ASTRA_IN, archive_path=SCRATCH.name)\n",
    "        output.update(settings)\n",
    "        output['Exception'] = False\n",
    "    except Exception as e:\n",
    "        output = settings.copy()\n",
    "        output['Exception'] = True\n",
    "    return output"
   ]
  },
  {
   "cell_type": "code",
   "execution_count": 31,
   "metadata": {},
   "outputs": [],
   "source": [
    "def generate_settings_combinations(param_values):\n",
    "    keys = list(param_values.keys())\n",
    "    values_combinations = list(product(*param_values.values()))\n",
    "    \n",
    "    settings_list = []\n",
    "    for combination in values_combinations:\n",
    "        settings = dict(zip(keys, combination))\n",
    "        settings_list.append(settings)\n",
    "    \n",
    "    return settings_list"
   ]
  },
  {
   "cell_type": "code",
   "execution_count": 32,
   "metadata": {},
   "outputs": [],
   "source": [
    "param_values = generate_parameter_values(PARAMETERS)\n",
    "settings_combinations = generate_settings_combinations(param_values)"
   ]
  },
  {
   "cell_type": "code",
   "execution_count": 33,
   "metadata": {},
   "outputs": [
    {
     "name": "stderr",
     "output_type": "stream",
     "text": [
      "\n",
      "KeyboardInterrupt\n",
      "\n"
     ]
    }
   ],
   "source": [
    "executor = Executor()\n",
    "outputs = list(executor.map(evaluate, settings_combinations))"
   ]
  },
  {
   "cell_type": "code",
   "execution_count": 34,
   "metadata": {},
   "outputs": [
    {
     "data": {
      "text/plain": [
       "'./tmp1kr8br0r'"
      ]
     },
     "execution_count": 34,
     "metadata": {},
     "output_type": "execute_result"
    }
   ],
   "source": [
    "SCRATCH.name"
   ]
  },
  {
   "cell_type": "code",
   "execution_count": 35,
   "metadata": {},
   "outputs": [
    {
     "data": {
      "text/plain": [
       "['e7f1ea7b353d1c37e8f60b12d43615b7.h5',\n",
       " '1e9d2ea10ad6d0e6604171c8daf1cfc8.h5',\n",
       " '7cee976e33c42d36946894ee1afdc9b1.h5',\n",
       " '2adfce9e29c0c2e5c89e7d7ac0ab8558.h5']"
      ]
     },
     "execution_count": 35,
     "metadata": {},
     "output_type": "execute_result"
    }
   ],
   "source": [
    "os.listdir(SCRATCH.name)"
   ]
  },
  {
   "cell_type": "markdown",
   "metadata": {},
   "source": [
    "## Pandas"
   ]
  },
  {
   "cell_type": "code",
   "execution_count": 11,
   "metadata": {},
   "outputs": [],
   "source": [
    "import pandas as pd"
   ]
  },
  {
   "cell_type": "code",
   "execution_count": 12,
   "metadata": {},
   "outputs": [
    {
     "data": {
      "text/html": [
       "<div>\n",
       "<style scoped>\n",
       "    .dataframe tbody tr th:only-of-type {\n",
       "        vertical-align: middle;\n",
       "    }\n",
       "\n",
       "    .dataframe tbody tr th {\n",
       "        vertical-align: top;\n",
       "    }\n",
       "\n",
       "    .dataframe thead th {\n",
       "        text-align: right;\n",
       "    }\n",
       "</style>\n",
       "<table border=\"1\" class=\"dataframe\">\n",
       "  <thead>\n",
       "    <tr style=\"text-align: right;\">\n",
       "      <th></th>\n",
       "      <th>error</th>\n",
       "      <th>end_mean_z</th>\n",
       "      <th>end_norm_emit_x</th>\n",
       "      <th>end_core_emit_95percent_x</th>\n",
       "      <th>end_core_emit_90percent_x</th>\n",
       "      <th>end_core_emit_80percent_x</th>\n",
       "      <th>end_norm_emit_y</th>\n",
       "      <th>end_core_emit_95percent_y</th>\n",
       "      <th>end_core_emit_90percent_y</th>\n",
       "      <th>end_core_emit_80percent_y</th>\n",
       "      <th>...</th>\n",
       "      <th>end_sigma_z</th>\n",
       "      <th>end_sigma_energy</th>\n",
       "      <th>end_cov_z__energy</th>\n",
       "      <th>end_n_particle_loss</th>\n",
       "      <th>end_total_charge</th>\n",
       "      <th>end_higher_order_energy_spread</th>\n",
       "      <th>fingerprint</th>\n",
       "      <th>archive</th>\n",
       "      <th>maxb(2)</th>\n",
       "      <th>Exception</th>\n",
       "    </tr>\n",
       "  </thead>\n",
       "  <tbody>\n",
       "    <tr>\n",
       "      <th>0</th>\n",
       "      <td>False</td>\n",
       "      <td>0.80002</td>\n",
       "      <td>0.000156</td>\n",
       "      <td>0.000111</td>\n",
       "      <td>0.000084</td>\n",
       "      <td>0.000050</td>\n",
       "      <td>0.000159</td>\n",
       "      <td>0.000113</td>\n",
       "      <td>0.000086</td>\n",
       "      <td>0.000052</td>\n",
       "      <td>...</td>\n",
       "      <td>0.10974</td>\n",
       "      <td>222400.0</td>\n",
       "      <td>11889.2316</td>\n",
       "      <td>149021</td>\n",
       "      <td>5.097774e-10</td>\n",
       "      <td>185748.329794</td>\n",
       "      <td>a4806114bca51f502bd02d2e1fc164f0</td>\n",
       "      <td>/tmp/tmppetboz1o/a4806114bca51f502bd02d2e1fc16...</td>\n",
       "      <td>0.00</td>\n",
       "      <td>False</td>\n",
       "    </tr>\n",
       "    <tr>\n",
       "      <th>1</th>\n",
       "      <td>False</td>\n",
       "      <td>0.80000</td>\n",
       "      <td>0.000155</td>\n",
       "      <td>0.000116</td>\n",
       "      <td>0.000091</td>\n",
       "      <td>0.000057</td>\n",
       "      <td>0.000155</td>\n",
       "      <td>0.000116</td>\n",
       "      <td>0.000091</td>\n",
       "      <td>0.000057</td>\n",
       "      <td>...</td>\n",
       "      <td>0.10695</td>\n",
       "      <td>186110.0</td>\n",
       "      <td>8880.4863</td>\n",
       "      <td>89778</td>\n",
       "      <td>1.102164e-09</td>\n",
       "      <td>160860.704670</td>\n",
       "      <td>a124e2011700e8f7e293235000277d1c</td>\n",
       "      <td>/tmp/tmppetboz1o/a124e2011700e8f7e293235000277...</td>\n",
       "      <td>0.04</td>\n",
       "      <td>False</td>\n",
       "    </tr>\n",
       "  </tbody>\n",
       "</table>\n",
       "<p>2 rows × 34 columns</p>\n",
       "</div>"
      ],
      "text/plain": [
       "   error  end_mean_z  end_norm_emit_x  end_core_emit_95percent_x  \\\n",
       "0  False     0.80002         0.000156                   0.000111   \n",
       "1  False     0.80000         0.000155                   0.000116   \n",
       "\n",
       "   end_core_emit_90percent_x  end_core_emit_80percent_x  end_norm_emit_y  \\\n",
       "0                   0.000084                   0.000050         0.000159   \n",
       "1                   0.000091                   0.000057         0.000155   \n",
       "\n",
       "   end_core_emit_95percent_y  end_core_emit_90percent_y  \\\n",
       "0                   0.000113                   0.000086   \n",
       "1                   0.000116                   0.000091   \n",
       "\n",
       "   end_core_emit_80percent_y  ...  end_sigma_z  end_sigma_energy  \\\n",
       "0                   0.000052  ...      0.10974          222400.0   \n",
       "1                   0.000057  ...      0.10695          186110.0   \n",
       "\n",
       "   end_cov_z__energy  end_n_particle_loss  end_total_charge  \\\n",
       "0         11889.2316               149021      5.097774e-10   \n",
       "1          8880.4863                89778      1.102164e-09   \n",
       "\n",
       "   end_higher_order_energy_spread                       fingerprint  \\\n",
       "0                   185748.329794  a4806114bca51f502bd02d2e1fc164f0   \n",
       "1                   160860.704670  a124e2011700e8f7e293235000277d1c   \n",
       "\n",
       "                                             archive  maxb(2)  Exception  \n",
       "0  /tmp/tmppetboz1o/a4806114bca51f502bd02d2e1fc16...     0.00      False  \n",
       "1  /tmp/tmppetboz1o/a124e2011700e8f7e293235000277...     0.04      False  \n",
       "\n",
       "[2 rows x 34 columns]"
      ]
     },
     "execution_count": 12,
     "metadata": {},
     "output_type": "execute_result"
    }
   ],
   "source": [
    "df = pd.DataFrame(outputs)\n",
    "df"
   ]
  },
  {
   "cell_type": "code",
   "execution_count": 13,
   "metadata": {},
   "outputs": [],
   "source": [
    "filtered_df=df[~df['Exception']]"
   ]
  },
  {
   "cell_type": "code",
   "execution_count": 14,
   "metadata": {},
   "outputs": [
    {
     "data": {
      "text/html": [
       "<div>\n",
       "<style scoped>\n",
       "    .dataframe tbody tr th:only-of-type {\n",
       "        vertical-align: middle;\n",
       "    }\n",
       "\n",
       "    .dataframe tbody tr th {\n",
       "        vertical-align: top;\n",
       "    }\n",
       "\n",
       "    .dataframe thead th {\n",
       "        text-align: right;\n",
       "    }\n",
       "</style>\n",
       "<table border=\"1\" class=\"dataframe\">\n",
       "  <thead>\n",
       "    <tr style=\"text-align: right;\">\n",
       "      <th></th>\n",
       "      <th>error</th>\n",
       "      <th>end_mean_z</th>\n",
       "      <th>end_norm_emit_x</th>\n",
       "      <th>end_core_emit_95percent_x</th>\n",
       "      <th>end_core_emit_90percent_x</th>\n",
       "      <th>end_core_emit_80percent_x</th>\n",
       "      <th>end_norm_emit_y</th>\n",
       "      <th>end_core_emit_95percent_y</th>\n",
       "      <th>end_core_emit_90percent_y</th>\n",
       "      <th>end_core_emit_80percent_y</th>\n",
       "      <th>...</th>\n",
       "      <th>end_sigma_z</th>\n",
       "      <th>end_sigma_energy</th>\n",
       "      <th>end_cov_z__energy</th>\n",
       "      <th>end_n_particle_loss</th>\n",
       "      <th>end_total_charge</th>\n",
       "      <th>end_higher_order_energy_spread</th>\n",
       "      <th>fingerprint</th>\n",
       "      <th>archive</th>\n",
       "      <th>maxb(2)</th>\n",
       "      <th>Exception</th>\n",
       "    </tr>\n",
       "  </thead>\n",
       "  <tbody>\n",
       "    <tr>\n",
       "      <th>0</th>\n",
       "      <td>False</td>\n",
       "      <td>0.80002</td>\n",
       "      <td>0.000156</td>\n",
       "      <td>0.000111</td>\n",
       "      <td>0.000084</td>\n",
       "      <td>0.000050</td>\n",
       "      <td>0.000159</td>\n",
       "      <td>0.000113</td>\n",
       "      <td>0.000086</td>\n",
       "      <td>0.000052</td>\n",
       "      <td>...</td>\n",
       "      <td>0.10974</td>\n",
       "      <td>222400.0</td>\n",
       "      <td>11889.2316</td>\n",
       "      <td>149021</td>\n",
       "      <td>5.097774e-10</td>\n",
       "      <td>185748.329794</td>\n",
       "      <td>a4806114bca51f502bd02d2e1fc164f0</td>\n",
       "      <td>/tmp/tmppetboz1o/a4806114bca51f502bd02d2e1fc16...</td>\n",
       "      <td>0.00</td>\n",
       "      <td>False</td>\n",
       "    </tr>\n",
       "    <tr>\n",
       "      <th>1</th>\n",
       "      <td>False</td>\n",
       "      <td>0.80000</td>\n",
       "      <td>0.000155</td>\n",
       "      <td>0.000116</td>\n",
       "      <td>0.000091</td>\n",
       "      <td>0.000057</td>\n",
       "      <td>0.000155</td>\n",
       "      <td>0.000116</td>\n",
       "      <td>0.000091</td>\n",
       "      <td>0.000057</td>\n",
       "      <td>...</td>\n",
       "      <td>0.10695</td>\n",
       "      <td>186110.0</td>\n",
       "      <td>8880.4863</td>\n",
       "      <td>89778</td>\n",
       "      <td>1.102164e-09</td>\n",
       "      <td>160860.704670</td>\n",
       "      <td>a124e2011700e8f7e293235000277d1c</td>\n",
       "      <td>/tmp/tmppetboz1o/a124e2011700e8f7e293235000277...</td>\n",
       "      <td>0.04</td>\n",
       "      <td>False</td>\n",
       "    </tr>\n",
       "  </tbody>\n",
       "</table>\n",
       "<p>2 rows × 34 columns</p>\n",
       "</div>"
      ],
      "text/plain": [
       "   error  end_mean_z  end_norm_emit_x  end_core_emit_95percent_x  \\\n",
       "0  False     0.80002         0.000156                   0.000111   \n",
       "1  False     0.80000         0.000155                   0.000116   \n",
       "\n",
       "   end_core_emit_90percent_x  end_core_emit_80percent_x  end_norm_emit_y  \\\n",
       "0                   0.000084                   0.000050         0.000159   \n",
       "1                   0.000091                   0.000057         0.000155   \n",
       "\n",
       "   end_core_emit_95percent_y  end_core_emit_90percent_y  \\\n",
       "0                   0.000113                   0.000086   \n",
       "1                   0.000116                   0.000091   \n",
       "\n",
       "   end_core_emit_80percent_y  ...  end_sigma_z  end_sigma_energy  \\\n",
       "0                   0.000052  ...      0.10974          222400.0   \n",
       "1                   0.000057  ...      0.10695          186110.0   \n",
       "\n",
       "   end_cov_z__energy  end_n_particle_loss  end_total_charge  \\\n",
       "0         11889.2316               149021      5.097774e-10   \n",
       "1          8880.4863                89778      1.102164e-09   \n",
       "\n",
       "   end_higher_order_energy_spread                       fingerprint  \\\n",
       "0                   185748.329794  a4806114bca51f502bd02d2e1fc164f0   \n",
       "1                   160860.704670  a124e2011700e8f7e293235000277d1c   \n",
       "\n",
       "                                             archive  maxb(2)  Exception  \n",
       "0  /tmp/tmppetboz1o/a4806114bca51f502bd02d2e1fc16...     0.00      False  \n",
       "1  /tmp/tmppetboz1o/a124e2011700e8f7e293235000277...     0.04      False  \n",
       "\n",
       "[2 rows x 34 columns]"
      ]
     },
     "execution_count": 14,
     "metadata": {},
     "output_type": "execute_result"
    }
   ],
   "source": [
    "filtered_df"
   ]
  },
  {
   "cell_type": "markdown",
   "metadata": {},
   "source": [
    "# Bokeh"
   ]
  },
  {
   "cell_type": "code",
   "execution_count": 52,
   "metadata": {},
   "outputs": [
    {
     "data": {
      "text/html": [
       "    <style>\n",
       "        .bk-notebook-logo {\n",
       "            display: block;\n",
       "            width: 20px;\n",
       "            height: 20px;\n",
       "            background-image: url(data:image/png;base64,iVBORw0KGgoAAAANSUhEUgAAABQAAAAUCAYAAACNiR0NAAAABHNCSVQICAgIfAhkiAAAAAlwSFlzAAALEgAACxIB0t1+/AAAABx0RVh0U29mdHdhcmUAQWRvYmUgRmlyZXdvcmtzIENTNui8sowAAAOkSURBVDiNjZRtaJVlGMd/1/08zzln5zjP1LWcU9N0NkN8m2CYjpgQYQXqSs0I84OLIC0hkEKoPtiH3gmKoiJDU7QpLgoLjLIQCpEsNJ1vqUOdO7ppbuec5+V+rj4ctwzd8IIbbi6u+8f1539dt3A78eXC7QizUF7gyV1fD1Yqg4JWz84yffhm0qkFqBogB9rM8tZdtwVsPUhWhGcFJngGeWrPzHm5oaMmkfEg1usvLFyc8jLRqDOMru7AyC8saQr7GG7f5fvDeH7Ej8CM66nIF+8yngt6HWaKh7k49Soy9nXurCi1o3qUbS3zWfrYeQDTB/Qj6kX6Ybhw4B+bOYoLKCC9H3Nu/leUTZ1JdRWkkn2ldcCamzrcf47KKXdAJllSlxAOkRgyHsGC/zRday5Qld9DyoM4/q/rUoy/CXh3jzOu3bHUVZeU+DEn8FInkPBFlu3+nW3Nw0mk6vCDiWg8CeJaxEwuHS3+z5RgY+YBR6V1Z1nxSOfoaPa4LASWxxdNp+VWTk7+4vzaou8v8PN+xo+KY2xsw6une2frhw05CTYOmQvsEhjhWjn0bmXPjpE1+kplmmkP3suftwTubK9Vq22qKmrBhpY4jvd5afdRA3wGjFAgcnTK2s4hY0/GPNIb0nErGMCRxWOOX64Z8RAC4oCXdklmEvcL8o0BfkNK4lUg9HTl+oPlQxdNo3Mg4Nv175e/1LDGzZen30MEjRUtmXSfiTVu1kK8W4txyV6BMKlbgk3lMwYCiusNy9fVfvvwMxv8Ynl6vxoByANLTWplvuj/nF9m2+PDtt1eiHPBr1oIfhCChQMBw6Aw0UulqTKZdfVvfG7VcfIqLG9bcldL/+pdWTLxLUy8Qq38heUIjh4XlzZxzQm19lLFlr8vdQ97rjZVOLf8nclzckbcD4wxXMidpX30sFd37Fv/GtwwhzhxGVAprjbg0gCAEeIgwCZyTV2Z1REEW8O4py0wsjeloKoMr6iCY6dP92H6Vw/oTyICIthibxjm/DfN9lVz8IqtqKYLUXfoKVMVQVVJOElGjrnnUt9T9wbgp8AyYKaGlqingHZU/uG2NTZSVqwHQTWkx9hxjkpWDaCg6Ckj5qebgBVbT3V3NNXMSiWSDdGV3hrtzla7J+duwPOToIg42ChPQOQjspnSlp1V+Gjdged7+8UN5CRAV7a5EdFNwCjEaBR27b3W890TE7g24NAP/mMDXRWrGoFPQI9ls/MWO2dWFAar/xcOIImbbpA3zgAAAABJRU5ErkJggg==);\n",
       "        }\n",
       "    </style>\n",
       "    <div>\n",
       "        <a href=\"https://bokeh.org\" target=\"_blank\" class=\"bk-notebook-logo\"></a>\n",
       "        <span id=\"f340fb9b-78b9-442b-8c47-160fa5eb9d9f\">Loading BokehJS ...</span>\n",
       "    </div>\n"
      ]
     },
     "metadata": {},
     "output_type": "display_data"
    },
    {
     "data": {
      "application/javascript": [
       "'use strict';\n",
       "(function(root) {\n",
       "  function now() {\n",
       "    return new Date();\n",
       "  }\n",
       "\n",
       "  const force = true;\n",
       "\n",
       "  if (typeof root._bokeh_onload_callbacks === \"undefined\" || force === true) {\n",
       "    root._bokeh_onload_callbacks = [];\n",
       "    root._bokeh_is_loading = undefined;\n",
       "  }\n",
       "\n",
       "const JS_MIME_TYPE = 'application/javascript';\n",
       "  const HTML_MIME_TYPE = 'text/html';\n",
       "  const EXEC_MIME_TYPE = 'application/vnd.bokehjs_exec.v0+json';\n",
       "  const CLASS_NAME = 'output_bokeh rendered_html';\n",
       "\n",
       "  /**\n",
       "   * Render data to the DOM node\n",
       "   */\n",
       "  function render(props, node) {\n",
       "    const script = document.createElement(\"script\");\n",
       "    node.appendChild(script);\n",
       "  }\n",
       "\n",
       "  /**\n",
       "   * Handle when an output is cleared or removed\n",
       "   */\n",
       "  function handleClearOutput(event, handle) {\n",
       "    function drop(id) {\n",
       "      const view = Bokeh.index.get_by_id(id)\n",
       "      if (view != null) {\n",
       "        view.model.document.clear()\n",
       "        Bokeh.index.delete(view)\n",
       "      }\n",
       "    }\n",
       "\n",
       "    const cell = handle.cell;\n",
       "\n",
       "    const id = cell.output_area._bokeh_element_id;\n",
       "    const server_id = cell.output_area._bokeh_server_id;\n",
       "\n",
       "    // Clean up Bokeh references\n",
       "    if (id != null) {\n",
       "      drop(id)\n",
       "    }\n",
       "\n",
       "    if (server_id !== undefined) {\n",
       "      // Clean up Bokeh references\n",
       "      const cmd_clean = \"from bokeh.io.state import curstate; print(curstate().uuid_to_server['\" + server_id + \"'].get_sessions()[0].document.roots[0]._id)\";\n",
       "      cell.notebook.kernel.execute(cmd_clean, {\n",
       "        iopub: {\n",
       "          output: function(msg) {\n",
       "            const id = msg.content.text.trim()\n",
       "            drop(id)\n",
       "          }\n",
       "        }\n",
       "      });\n",
       "      // Destroy server and session\n",
       "      const cmd_destroy = \"import bokeh.io.notebook as ion; ion.destroy_server('\" + server_id + \"')\";\n",
       "      cell.notebook.kernel.execute(cmd_destroy);\n",
       "    }\n",
       "  }\n",
       "\n",
       "  /**\n",
       "   * Handle when a new output is added\n",
       "   */\n",
       "  function handleAddOutput(event, handle) {\n",
       "    const output_area = handle.output_area;\n",
       "    const output = handle.output;\n",
       "\n",
       "    // limit handleAddOutput to display_data with EXEC_MIME_TYPE content only\n",
       "    if ((output.output_type != \"display_data\") || (!Object.prototype.hasOwnProperty.call(output.data, EXEC_MIME_TYPE))) {\n",
       "      return\n",
       "    }\n",
       "\n",
       "    const toinsert = output_area.element.find(\".\" + CLASS_NAME.split(' ')[0]);\n",
       "\n",
       "    if (output.metadata[EXEC_MIME_TYPE][\"id\"] !== undefined) {\n",
       "      toinsert[toinsert.length - 1].firstChild.textContent = output.data[JS_MIME_TYPE];\n",
       "      // store reference to embed id on output_area\n",
       "      output_area._bokeh_element_id = output.metadata[EXEC_MIME_TYPE][\"id\"];\n",
       "    }\n",
       "    if (output.metadata[EXEC_MIME_TYPE][\"server_id\"] !== undefined) {\n",
       "      const bk_div = document.createElement(\"div\");\n",
       "      bk_div.innerHTML = output.data[HTML_MIME_TYPE];\n",
       "      const script_attrs = bk_div.children[0].attributes;\n",
       "      for (let i = 0; i < script_attrs.length; i++) {\n",
       "        toinsert[toinsert.length - 1].firstChild.setAttribute(script_attrs[i].name, script_attrs[i].value);\n",
       "        toinsert[toinsert.length - 1].firstChild.textContent = bk_div.children[0].textContent\n",
       "      }\n",
       "      // store reference to server id on output_area\n",
       "      output_area._bokeh_server_id = output.metadata[EXEC_MIME_TYPE][\"server_id\"];\n",
       "    }\n",
       "  }\n",
       "\n",
       "  function register_renderer(events, OutputArea) {\n",
       "\n",
       "    function append_mime(data, metadata, element) {\n",
       "      // create a DOM node to render to\n",
       "      const toinsert = this.create_output_subarea(\n",
       "        metadata,\n",
       "        CLASS_NAME,\n",
       "        EXEC_MIME_TYPE\n",
       "      );\n",
       "      this.keyboard_manager.register_events(toinsert);\n",
       "      // Render to node\n",
       "      const props = {data: data, metadata: metadata[EXEC_MIME_TYPE]};\n",
       "      render(props, toinsert[toinsert.length - 1]);\n",
       "      element.append(toinsert);\n",
       "      return toinsert\n",
       "    }\n",
       "\n",
       "    /* Handle when an output is cleared or removed */\n",
       "    events.on('clear_output.CodeCell', handleClearOutput);\n",
       "    events.on('delete.Cell', handleClearOutput);\n",
       "\n",
       "    /* Handle when a new output is added */\n",
       "    events.on('output_added.OutputArea', handleAddOutput);\n",
       "\n",
       "    /**\n",
       "     * Register the mime type and append_mime function with output_area\n",
       "     */\n",
       "    OutputArea.prototype.register_mime_type(EXEC_MIME_TYPE, append_mime, {\n",
       "      /* Is output safe? */\n",
       "      safe: true,\n",
       "      /* Index of renderer in `output_area.display_order` */\n",
       "      index: 0\n",
       "    });\n",
       "  }\n",
       "\n",
       "  // register the mime type if in Jupyter Notebook environment and previously unregistered\n",
       "  if (root.Jupyter !== undefined) {\n",
       "    const events = require('base/js/events');\n",
       "    const OutputArea = require('notebook/js/outputarea').OutputArea;\n",
       "\n",
       "    if (OutputArea.prototype.mime_types().indexOf(EXEC_MIME_TYPE) == -1) {\n",
       "      register_renderer(events, OutputArea);\n",
       "    }\n",
       "  }\n",
       "  if (typeof (root._bokeh_timeout) === \"undefined\" || force === true) {\n",
       "    root._bokeh_timeout = Date.now() + 5000;\n",
       "    root._bokeh_failed_load = false;\n",
       "  }\n",
       "\n",
       "  const NB_LOAD_WARNING = {'data': {'text/html':\n",
       "     \"<div style='background-color: #fdd'>\\n\"+\n",
       "     \"<p>\\n\"+\n",
       "     \"BokehJS does not appear to have successfully loaded. If loading BokehJS from CDN, this \\n\"+\n",
       "     \"may be due to a slow or bad network connection. Possible fixes:\\n\"+\n",
       "     \"</p>\\n\"+\n",
       "     \"<ul>\\n\"+\n",
       "     \"<li>re-rerun `output_notebook()` to attempt to load from CDN again, or</li>\\n\"+\n",
       "     \"<li>use INLINE resources instead, as so:</li>\\n\"+\n",
       "     \"</ul>\\n\"+\n",
       "     \"<code>\\n\"+\n",
       "     \"from bokeh.resources import INLINE\\n\"+\n",
       "     \"output_notebook(resources=INLINE)\\n\"+\n",
       "     \"</code>\\n\"+\n",
       "     \"</div>\"}};\n",
       "\n",
       "  function display_loaded(error = null) {\n",
       "    const el = document.getElementById(\"f340fb9b-78b9-442b-8c47-160fa5eb9d9f\");\n",
       "    if (el != null) {\n",
       "      const html = (() => {\n",
       "        if (typeof root.Bokeh === \"undefined\") {\n",
       "          if (error == null) {\n",
       "            return \"BokehJS is loading ...\";\n",
       "          } else {\n",
       "            return \"BokehJS failed to load.\";\n",
       "          }\n",
       "        } else {\n",
       "          const prefix = `BokehJS ${root.Bokeh.version}`;\n",
       "          if (error == null) {\n",
       "            return `${prefix} successfully loaded.`;\n",
       "          } else {\n",
       "            return `${prefix} <b>encountered errors</b> while loading and may not function as expected.`;\n",
       "          }\n",
       "        }\n",
       "      })();\n",
       "      el.innerHTML = html;\n",
       "\n",
       "      if (error != null) {\n",
       "        const wrapper = document.createElement(\"div\");\n",
       "        wrapper.style.overflow = \"auto\";\n",
       "        wrapper.style.height = \"5em\";\n",
       "        wrapper.style.resize = \"vertical\";\n",
       "        const content = document.createElement(\"div\");\n",
       "        content.style.fontFamily = \"monospace\";\n",
       "        content.style.whiteSpace = \"pre-wrap\";\n",
       "        content.style.backgroundColor = \"rgb(255, 221, 221)\";\n",
       "        content.textContent = error.stack ?? error.toString();\n",
       "        wrapper.append(content);\n",
       "        el.append(wrapper);\n",
       "      }\n",
       "    } else if (Date.now() < root._bokeh_timeout) {\n",
       "      setTimeout(() => display_loaded(error), 100);\n",
       "    }\n",
       "  }\n",
       "\n",
       "  function run_callbacks() {\n",
       "    try {\n",
       "      root._bokeh_onload_callbacks.forEach(function(callback) {\n",
       "        if (callback != null)\n",
       "          callback();\n",
       "      });\n",
       "    } finally {\n",
       "      delete root._bokeh_onload_callbacks\n",
       "    }\n",
       "    console.debug(\"Bokeh: all callbacks have finished\");\n",
       "  }\n",
       "\n",
       "  function load_libs(css_urls, js_urls, callback) {\n",
       "    if (css_urls == null) css_urls = [];\n",
       "    if (js_urls == null) js_urls = [];\n",
       "\n",
       "    root._bokeh_onload_callbacks.push(callback);\n",
       "    if (root._bokeh_is_loading > 0) {\n",
       "      console.debug(\"Bokeh: BokehJS is being loaded, scheduling callback at\", now());\n",
       "      return null;\n",
       "    }\n",
       "    if (js_urls == null || js_urls.length === 0) {\n",
       "      run_callbacks();\n",
       "      return null;\n",
       "    }\n",
       "    console.debug(\"Bokeh: BokehJS not loaded, scheduling load and callback at\", now());\n",
       "    root._bokeh_is_loading = css_urls.length + js_urls.length;\n",
       "\n",
       "    function on_load() {\n",
       "      root._bokeh_is_loading--;\n",
       "      if (root._bokeh_is_loading === 0) {\n",
       "        console.debug(\"Bokeh: all BokehJS libraries/stylesheets loaded\");\n",
       "        run_callbacks()\n",
       "      }\n",
       "    }\n",
       "\n",
       "    function on_error(url) {\n",
       "      console.error(\"failed to load \" + url);\n",
       "    }\n",
       "\n",
       "    for (let i = 0; i < css_urls.length; i++) {\n",
       "      const url = css_urls[i];\n",
       "      const element = document.createElement(\"link\");\n",
       "      element.onload = on_load;\n",
       "      element.onerror = on_error.bind(null, url);\n",
       "      element.rel = \"stylesheet\";\n",
       "      element.type = \"text/css\";\n",
       "      element.href = url;\n",
       "      console.debug(\"Bokeh: injecting link tag for BokehJS stylesheet: \", url);\n",
       "      document.body.appendChild(element);\n",
       "    }\n",
       "\n",
       "    for (let i = 0; i < js_urls.length; i++) {\n",
       "      const url = js_urls[i];\n",
       "      const element = document.createElement('script');\n",
       "      element.onload = on_load;\n",
       "      element.onerror = on_error.bind(null, url);\n",
       "      element.async = false;\n",
       "      element.src = url;\n",
       "      console.debug(\"Bokeh: injecting script tag for BokehJS library: \", url);\n",
       "      document.head.appendChild(element);\n",
       "    }\n",
       "  };\n",
       "\n",
       "  function inject_raw_css(css) {\n",
       "    const element = document.createElement(\"style\");\n",
       "    element.appendChild(document.createTextNode(css));\n",
       "    document.body.appendChild(element);\n",
       "  }\n",
       "\n",
       "  const js_urls = [\"https://cdn.bokeh.org/bokeh/release/bokeh-3.4.1.min.js\", \"https://cdn.bokeh.org/bokeh/release/bokeh-gl-3.4.1.min.js\", \"https://cdn.bokeh.org/bokeh/release/bokeh-widgets-3.4.1.min.js\", \"https://cdn.bokeh.org/bokeh/release/bokeh-tables-3.4.1.min.js\", \"https://cdn.bokeh.org/bokeh/release/bokeh-mathjax-3.4.1.min.js\"];\n",
       "  const css_urls = [];\n",
       "\n",
       "  const inline_js = [    function(Bokeh) {\n",
       "      Bokeh.set_log_level(\"info\");\n",
       "    },\n",
       "function(Bokeh) {\n",
       "    }\n",
       "  ];\n",
       "\n",
       "  function run_inline_js() {\n",
       "    if (root.Bokeh !== undefined || force === true) {\n",
       "      try {\n",
       "            for (let i = 0; i < inline_js.length; i++) {\n",
       "      inline_js[i].call(root, root.Bokeh);\n",
       "    }\n",
       "\n",
       "      } catch (error) {display_loaded(error);throw error;\n",
       "      }if (force === true) {\n",
       "        display_loaded();\n",
       "      }} else if (Date.now() < root._bokeh_timeout) {\n",
       "      setTimeout(run_inline_js, 100);\n",
       "    } else if (!root._bokeh_failed_load) {\n",
       "      console.log(\"Bokeh: BokehJS failed to load within specified timeout.\");\n",
       "      root._bokeh_failed_load = true;\n",
       "    } else if (force !== true) {\n",
       "      const cell = $(document.getElementById(\"f340fb9b-78b9-442b-8c47-160fa5eb9d9f\")).parents('.cell').data().cell;\n",
       "      cell.output_area.append_execute_result(NB_LOAD_WARNING)\n",
       "    }\n",
       "  }\n",
       "\n",
       "  if (root._bokeh_is_loading === 0) {\n",
       "    console.debug(\"Bokeh: BokehJS loaded, going straight to plotting\");\n",
       "    run_inline_js();\n",
       "  } else {\n",
       "    load_libs(css_urls, js_urls, function() {\n",
       "      console.debug(\"Bokeh: BokehJS plotting callback run at\", now());\n",
       "      run_inline_js();\n",
       "    });\n",
       "  }\n",
       "}(window));"
      ],
      "application/vnd.bokehjs_load.v0+json": "'use strict';\n(function(root) {\n  function now() {\n    return new Date();\n  }\n\n  const force = true;\n\n  if (typeof root._bokeh_onload_callbacks === \"undefined\" || force === true) {\n    root._bokeh_onload_callbacks = [];\n    root._bokeh_is_loading = undefined;\n  }\n\n\n  if (typeof (root._bokeh_timeout) === \"undefined\" || force === true) {\n    root._bokeh_timeout = Date.now() + 5000;\n    root._bokeh_failed_load = false;\n  }\n\n  const NB_LOAD_WARNING = {'data': {'text/html':\n     \"<div style='background-color: #fdd'>\\n\"+\n     \"<p>\\n\"+\n     \"BokehJS does not appear to have successfully loaded. If loading BokehJS from CDN, this \\n\"+\n     \"may be due to a slow or bad network connection. Possible fixes:\\n\"+\n     \"</p>\\n\"+\n     \"<ul>\\n\"+\n     \"<li>re-rerun `output_notebook()` to attempt to load from CDN again, or</li>\\n\"+\n     \"<li>use INLINE resources instead, as so:</li>\\n\"+\n     \"</ul>\\n\"+\n     \"<code>\\n\"+\n     \"from bokeh.resources import INLINE\\n\"+\n     \"output_notebook(resources=INLINE)\\n\"+\n     \"</code>\\n\"+\n     \"</div>\"}};\n\n  function display_loaded(error = null) {\n    const el = document.getElementById(\"f340fb9b-78b9-442b-8c47-160fa5eb9d9f\");\n    if (el != null) {\n      const html = (() => {\n        if (typeof root.Bokeh === \"undefined\") {\n          if (error == null) {\n            return \"BokehJS is loading ...\";\n          } else {\n            return \"BokehJS failed to load.\";\n          }\n        } else {\n          const prefix = `BokehJS ${root.Bokeh.version}`;\n          if (error == null) {\n            return `${prefix} successfully loaded.`;\n          } else {\n            return `${prefix} <b>encountered errors</b> while loading and may not function as expected.`;\n          }\n        }\n      })();\n      el.innerHTML = html;\n\n      if (error != null) {\n        const wrapper = document.createElement(\"div\");\n        wrapper.style.overflow = \"auto\";\n        wrapper.style.height = \"5em\";\n        wrapper.style.resize = \"vertical\";\n        const content = document.createElement(\"div\");\n        content.style.fontFamily = \"monospace\";\n        content.style.whiteSpace = \"pre-wrap\";\n        content.style.backgroundColor = \"rgb(255, 221, 221)\";\n        content.textContent = error.stack ?? error.toString();\n        wrapper.append(content);\n        el.append(wrapper);\n      }\n    } else if (Date.now() < root._bokeh_timeout) {\n      setTimeout(() => display_loaded(error), 100);\n    }\n  }\n\n  function run_callbacks() {\n    try {\n      root._bokeh_onload_callbacks.forEach(function(callback) {\n        if (callback != null)\n          callback();\n      });\n    } finally {\n      delete root._bokeh_onload_callbacks\n    }\n    console.debug(\"Bokeh: all callbacks have finished\");\n  }\n\n  function load_libs(css_urls, js_urls, callback) {\n    if (css_urls == null) css_urls = [];\n    if (js_urls == null) js_urls = [];\n\n    root._bokeh_onload_callbacks.push(callback);\n    if (root._bokeh_is_loading > 0) {\n      console.debug(\"Bokeh: BokehJS is being loaded, scheduling callback at\", now());\n      return null;\n    }\n    if (js_urls == null || js_urls.length === 0) {\n      run_callbacks();\n      return null;\n    }\n    console.debug(\"Bokeh: BokehJS not loaded, scheduling load and callback at\", now());\n    root._bokeh_is_loading = css_urls.length + js_urls.length;\n\n    function on_load() {\n      root._bokeh_is_loading--;\n      if (root._bokeh_is_loading === 0) {\n        console.debug(\"Bokeh: all BokehJS libraries/stylesheets loaded\");\n        run_callbacks()\n      }\n    }\n\n    function on_error(url) {\n      console.error(\"failed to load \" + url);\n    }\n\n    for (let i = 0; i < css_urls.length; i++) {\n      const url = css_urls[i];\n      const element = document.createElement(\"link\");\n      element.onload = on_load;\n      element.onerror = on_error.bind(null, url);\n      element.rel = \"stylesheet\";\n      element.type = \"text/css\";\n      element.href = url;\n      console.debug(\"Bokeh: injecting link tag for BokehJS stylesheet: \", url);\n      document.body.appendChild(element);\n    }\n\n    for (let i = 0; i < js_urls.length; i++) {\n      const url = js_urls[i];\n      const element = document.createElement('script');\n      element.onload = on_load;\n      element.onerror = on_error.bind(null, url);\n      element.async = false;\n      element.src = url;\n      console.debug(\"Bokeh: injecting script tag for BokehJS library: \", url);\n      document.head.appendChild(element);\n    }\n  };\n\n  function inject_raw_css(css) {\n    const element = document.createElement(\"style\");\n    element.appendChild(document.createTextNode(css));\n    document.body.appendChild(element);\n  }\n\n  const js_urls = [\"https://cdn.bokeh.org/bokeh/release/bokeh-3.4.1.min.js\", \"https://cdn.bokeh.org/bokeh/release/bokeh-gl-3.4.1.min.js\", \"https://cdn.bokeh.org/bokeh/release/bokeh-widgets-3.4.1.min.js\", \"https://cdn.bokeh.org/bokeh/release/bokeh-tables-3.4.1.min.js\", \"https://cdn.bokeh.org/bokeh/release/bokeh-mathjax-3.4.1.min.js\"];\n  const css_urls = [];\n\n  const inline_js = [    function(Bokeh) {\n      Bokeh.set_log_level(\"info\");\n    },\nfunction(Bokeh) {\n    }\n  ];\n\n  function run_inline_js() {\n    if (root.Bokeh !== undefined || force === true) {\n      try {\n            for (let i = 0; i < inline_js.length; i++) {\n      inline_js[i].call(root, root.Bokeh);\n    }\n\n      } catch (error) {display_loaded(error);throw error;\n      }if (force === true) {\n        display_loaded();\n      }} else if (Date.now() < root._bokeh_timeout) {\n      setTimeout(run_inline_js, 100);\n    } else if (!root._bokeh_failed_load) {\n      console.log(\"Bokeh: BokehJS failed to load within specified timeout.\");\n      root._bokeh_failed_load = true;\n    } else if (force !== true) {\n      const cell = $(document.getElementById(\"f340fb9b-78b9-442b-8c47-160fa5eb9d9f\")).parents('.cell').data().cell;\n      cell.output_area.append_execute_result(NB_LOAD_WARNING)\n    }\n  }\n\n  if (root._bokeh_is_loading === 0) {\n    console.debug(\"Bokeh: BokehJS loaded, going straight to plotting\");\n    run_inline_js();\n  } else {\n    load_libs(css_urls, js_urls, function() {\n      console.debug(\"Bokeh: BokehJS plotting callback run at\", now());\n      run_inline_js();\n    });\n  }\n}(window));"
     },
     "metadata": {},
     "output_type": "display_data"
    }
   ],
   "source": [
    "from bokeh.plotting import figure, output_notebook, show\n",
    "from bokeh.models import ColumnDataSource\n",
    "from bokeh.models.tools import HoverTool\n",
    "\n",
    "output_notebook()"
   ]
  },
  {
   "cell_type": "code",
   "execution_count": 53,
   "metadata": {},
   "outputs": [
    {
     "data": {
      "text/plain": [
       "['index',\n",
       " 'error',\n",
       " 'end_mean_z',\n",
       " 'end_norm_emit_x',\n",
       " 'end_core_emit_95percent_x',\n",
       " 'end_core_emit_90percent_x',\n",
       " 'end_core_emit_80percent_x',\n",
       " 'end_norm_emit_y',\n",
       " 'end_core_emit_95percent_y',\n",
       " 'end_core_emit_90percent_y',\n",
       " 'end_core_emit_80percent_y',\n",
       " 'end_norm_emit_z',\n",
       " 'end_core_emit_95percent_z',\n",
       " 'end_core_emit_905percent_z',\n",
       " 'end_core_emit_80percent_z',\n",
       " 'end_mean_t',\n",
       " 'end_mean_x',\n",
       " 'end_sigma_x',\n",
       " 'end_sigma_xp',\n",
       " 'end_cov_x__xp',\n",
       " 'end_mean_y',\n",
       " 'end_sigma_y',\n",
       " 'end_sigma_yp',\n",
       " 'end_cov_y__yp',\n",
       " 'end_mean_kinetic_energy',\n",
       " 'end_sigma_z',\n",
       " 'end_sigma_energy',\n",
       " 'end_cov_z__energy',\n",
       " 'end_n_particle_loss',\n",
       " 'end_total_charge',\n",
       " 'end_higher_order_energy_spread',\n",
       " 'fingerprint',\n",
       " 'archive',\n",
       " 'maxb(2)',\n",
       " 'Exception']"
      ]
     },
     "execution_count": 53,
     "metadata": {},
     "output_type": "execute_result"
    }
   ],
   "source": [
    "source = ColumnDataSource(filtered_df)\n",
    "source.column_names"
   ]
  },
  {
   "cell_type": "code",
   "execution_count": 54,
   "metadata": {},
   "outputs": [
    {
     "data": {
      "text/html": [
       "\n",
       "  <div id=\"c3ff731e-eefb-49c1-a1a8-45c0e90892cd\" data-root-id=\"p1083\" style=\"display: contents;\"></div>\n"
      ]
     },
     "metadata": {},
     "output_type": "display_data"
    },
    {
     "data": {
      "application/javascript": [
       "(function(root) {\n",
       "  function embed_document(root) {\n",
       "  const docs_json = {\"585c63dd-51d7-4349-bae1-432bf41ddd16\":{\"version\":\"3.4.1\",\"title\":\"Bokeh Application\",\"roots\":[{\"type\":\"object\",\"name\":\"Figure\",\"id\":\"p1083\",\"attributes\":{\"x_range\":{\"type\":\"object\",\"name\":\"DataRange1d\",\"id\":\"p1084\"},\"y_range\":{\"type\":\"object\",\"name\":\"DataRange1d\",\"id\":\"p1085\"},\"x_scale\":{\"type\":\"object\",\"name\":\"LinearScale\",\"id\":\"p1092\"},\"y_scale\":{\"type\":\"object\",\"name\":\"LinearScale\",\"id\":\"p1093\"},\"title\":{\"type\":\"object\",\"name\":\"Title\",\"id\":\"p1090\"},\"renderers\":[{\"type\":\"object\",\"name\":\"GlyphRenderer\",\"id\":\"p1121\",\"attributes\":{\"data_source\":{\"type\":\"object\",\"name\":\"ColumnDataSource\",\"id\":\"p1079\",\"attributes\":{\"selected\":{\"type\":\"object\",\"name\":\"Selection\",\"id\":\"p1080\",\"attributes\":{\"indices\":[],\"line_indices\":[]}},\"selection_policy\":{\"type\":\"object\",\"name\":\"UnionRenderers\",\"id\":\"p1081\"},\"data\":{\"type\":\"map\",\"entries\":[[\"index\",{\"type\":\"ndarray\",\"array\":{\"type\":\"bytes\",\"data\":\"AAAAAAEAAAA=\"},\"shape\":[2],\"dtype\":\"int32\",\"order\":\"little\"}],[\"error\",{\"type\":\"ndarray\",\"array\":{\"type\":\"bytes\",\"data\":\"AAA=\"},\"shape\":[2],\"dtype\":\"bool\",\"order\":\"little\"}],[\"end_mean_z\",{\"type\":\"ndarray\",\"array\":{\"type\":\"bytes\",\"data\":\"YKsEi8OZ6T+amZmZmZnpPw==\"},\"shape\":[2],\"dtype\":\"float64\",\"order\":\"little\"}],[\"end_norm_emit_x\",{\"type\":\"ndarray\",\"array\":{\"type\":\"bytes\",\"data\":\"T+dINnBqJD/VfoTE6k0kPw==\"},\"shape\":[2],\"dtype\":\"float64\",\"order\":\"little\"}],[\"end_core_emit_95percent_x\",{\"type\":\"ndarray\",\"array\":{\"type\":\"bytes\",\"data\":\"Wu4OIZX/HD/oIBqjlmIePw==\"},\"shape\":[2],\"dtype\":\"float64\",\"order\":\"little\"}],[\"end_core_emit_90percent_x\",{\"type\":\"ndarray\",\"array\":{\"type\":\"bytes\",\"data\":\"b3iVQ/gIFj/QqoKQreAXPw==\"},\"shape\":[2],\"dtype\":\"float64\",\"order\":\"little\"}],[\"end_core_emit_80percent_x\",{\"type\":\"ndarray\",\"array\":{\"type\":\"bytes\",\"data\":\"2/szBzFlCj9JcYuCq/8NPw==\"},\"shape\":[2],\"dtype\":\"float64\",\"order\":\"little\"}],[\"end_norm_emit_y\",{\"type\":\"ndarray\",\"array\":{\"type\":\"bytes\",\"data\":\"J0N+y9bZJD8t3dG9VlskPw==\"},\"shape\":[2],\"dtype\":\"float64\",\"order\":\"little\"}],[\"end_core_emit_95percent_y\",{\"type\":\"ndarray\",\"array\":{\"type\":\"bytes\",\"data\":\"og3Zo+STHT9tMpFvQmMePw==\"},\"shape\":[2],\"dtype\":\"float64\",\"order\":\"little\"}],[\"end_core_emit_90percent_y\",{\"type\":\"ndarray\",\"array\":{\"type\":\"bytes\",\"data\":\"9hKntnuJFj+n6GSDLtwXPw==\"},\"shape\":[2],\"dtype\":\"float64\",\"order\":\"little\"}],[\"end_core_emit_80percent_y\",{\"type\":\"ndarray\",\"array\":{\"type\":\"bytes\",\"data\":\"Y+YPwckaCz/+eoUF9wMOPw==\"},\"shape\":[2],\"dtype\":\"float64\",\"order\":\"little\"}],[\"end_norm_emit_z\",{\"type\":\"ndarray\",\"array\":{\"type\":\"bytes\",\"data\":\"AAAAAMDQ1EAAAAAAQGXRQA==\"},\"shape\":[2],\"dtype\":\"float64\",\"order\":\"little\"}],[\"end_core_emit_95percent_z\",{\"type\":\"ndarray\",\"array\":{\"type\":\"bytes\",\"data\":\"4sluZvSjkT+dfeVBeoqMPw==\"},\"shape\":[2],\"dtype\":\"float64\",\"order\":\"little\"}],[\"end_core_emit_905percent_z\",{\"type\":\"ndarray\",\"array\":{\"type\":\"bytes\",\"data\":\"TBb3H5kOjT8CZVOu8C6HPw==\"},\"shape\":[2],\"dtype\":\"float64\",\"order\":\"little\"}],[\"end_core_emit_80percent_z\",{\"type\":\"ndarray\",\"array\":{\"type\":\"bytes\",\"data\":\"Dr4wmSoYhT88+yU9Z2aBPw==\"},\"shape\":[2],\"dtype\":\"float64\",\"order\":\"little\"}],[\"end_mean_t\",{\"type\":\"ndarray\",\"array\":{\"type\":\"bytes\",\"data\":\"bCF4jyKXNT7YZfT3p+41Pg==\"},\"shape\":[2],\"dtype\":\"float64\",\"order\":\"little\"}],[\"end_mean_x\",{\"type\":\"ndarray\",\"array\":{\"type\":\"bytes\",\"data\":\"HLhPAxC78r6Zqz3xPrwOPw==\"},\"shape\":[2],\"dtype\":\"float64\",\"order\":\"little\"}],[\"end_sigma_x\",{\"type\":\"ndarray\",\"array\":{\"type\":\"bytes\",\"data\":\"Ff8cixKZbj8DIVnABG5tPw==\"},\"shape\":[2],\"dtype\":\"float64\",\"order\":\"little\"}],[\"end_sigma_xp\",{\"type\":\"ndarray\",\"array\":{\"type\":\"bytes\",\"data\":\"GxL3WPrQlT8Hl445z9iXPw==\"},\"shape\":[2],\"dtype\":\"float64\",\"order\":\"little\"}],[\"end_cov_x__xp\",{\"type\":\"ndarray\",\"array\":{\"type\":\"bytes\",\"data\":\"tNAPAPtP3r4aBJHLHzjwvg==\"},\"shape\":[2],\"dtype\":\"float64\",\"order\":\"little\"}],[\"end_mean_y\",{\"type\":\"ndarray\",\"array\":{\"type\":\"bytes\",\"data\":\"hp21HUsG7T6pQeJo2Dn3vg==\"},\"shape\":[2],\"dtype\":\"float64\",\"order\":\"little\"}],[\"end_sigma_y\",{\"type\":\"ndarray\",\"array\":{\"type\":\"bytes\",\"data\":\"a5hGONK+bj94oRQIln5tPw==\"},\"shape\":[2],\"dtype\":\"float64\",\"order\":\"little\"}],[\"end_sigma_yp\",{\"type\":\"ndarray\",\"array\":{\"type\":\"bytes\",\"data\":\"jX3JxoMtlj8qqKj6lc6XPw==\"},\"shape\":[2],\"dtype\":\"float64\",\"order\":\"little\"}],[\"end_cov_y__yp\",{\"type\":\"ndarray\",\"array\":{\"type\":\"bytes\",\"data\":\"/fh97dpy375cKVrmYnnuvg==\"},\"shape\":[2],\"dtype\":\"float64\",\"order\":\"little\"}],[\"end_mean_kinetic_energy\",{\"type\":\"ndarray\",\"array\":{\"type\":\"bytes\",\"data\":\"AAAAADgtI0EAAAAA2PchQQ==\"},\"shape\":[2],\"dtype\":\"float64\",\"order\":\"little\"}],[\"end_sigma_z\",{\"type\":\"ndarray\",\"array\":{\"type\":\"bytes\",\"data\":\"YyMQr+sXvD+ppE5AE2G7Pw==\"},\"shape\":[2],\"dtype\":\"float64\",\"order\":\"little\"}],[\"end_sigma_energy\",{\"type\":\"ndarray\",\"array\":{\"type\":\"bytes\",\"data\":\"AAAAAAAmC0EAAAAA8LcGQQ==\"},\"shape\":[2],\"dtype\":\"float64\",\"order\":\"little\"}],[\"end_cov_z__energy\",{\"type\":\"ndarray\",\"array\":{\"type\":\"bytes\",\"data\":\"4JwRpZ04x0AGEhQ/PljBQA==\"},\"shape\":[2],\"dtype\":\"float64\",\"order\":\"little\"}],[\"end_n_particle_loss\",{\"type\":\"ndarray\",\"array\":{\"type\":\"bytes\",\"data\":\"HUYCALJeAQA=\"},\"shape\":[2],\"dtype\":\"int32\",\"order\":\"little\"}],[\"end_total_charge\",{\"type\":\"ndarray\",\"array\":{\"type\":\"bytes\",\"data\":\"zRb5wgyEAT6FtCHjXu8SPg==\"},\"shape\":[2],\"dtype\":\"float64\",\"order\":\"little\"}],[\"end_higher_order_energy_spread\",{\"type\":\"ndarray\",\"array\":{\"type\":\"bytes\",\"data\":\"oUtro6KsBkG11ymj5aIDQQ==\"},\"shape\":[2],\"dtype\":\"float64\",\"order\":\"little\"}],[\"fingerprint\",{\"type\":\"ndarray\",\"array\":[\"a4806114bca51f502bd02d2e1fc164f0\",\"a124e2011700e8f7e293235000277d1c\"],\"shape\":[2],\"dtype\":\"object\",\"order\":\"little\"}],[\"archive\",{\"type\":\"ndarray\",\"array\":[\"/tmp/tmppetboz1o/a4806114bca51f502bd02d2e1fc164f0.h5\",\"/tmp/tmppetboz1o/a124e2011700e8f7e293235000277d1c.h5\"],\"shape\":[2],\"dtype\":\"object\",\"order\":\"little\"}],[\"maxb(2)\",{\"type\":\"ndarray\",\"array\":{\"type\":\"bytes\",\"data\":\"AAAAAAAAAAB7FK5H4XqkPw==\"},\"shape\":[2],\"dtype\":\"float64\",\"order\":\"little\"}],[\"Exception\",{\"type\":\"ndarray\",\"array\":{\"type\":\"bytes\",\"data\":\"AAA=\"},\"shape\":[2],\"dtype\":\"bool\",\"order\":\"little\"}]]}}},\"view\":{\"type\":\"object\",\"name\":\"CDSView\",\"id\":\"p1122\",\"attributes\":{\"filter\":{\"type\":\"object\",\"name\":\"AllIndices\",\"id\":\"p1123\"}}},\"glyph\":{\"type\":\"object\",\"name\":\"Scatter\",\"id\":\"p1118\",\"attributes\":{\"x\":{\"type\":\"field\",\"field\":\"maxb(2)\"},\"y\":{\"type\":\"field\",\"field\":\"end_total_charge\"},\"size\":{\"type\":\"value\",\"value\":10},\"line_color\":{\"type\":\"value\",\"value\":\"green\"},\"fill_color\":{\"type\":\"value\",\"value\":\"green\"},\"hatch_color\":{\"type\":\"value\",\"value\":\"green\"},\"marker\":{\"type\":\"value\",\"value\":\"x\"}}},\"nonselection_glyph\":{\"type\":\"object\",\"name\":\"Scatter\",\"id\":\"p1119\",\"attributes\":{\"x\":{\"type\":\"field\",\"field\":\"maxb(2)\"},\"y\":{\"type\":\"field\",\"field\":\"end_total_charge\"},\"size\":{\"type\":\"value\",\"value\":10},\"line_color\":{\"type\":\"value\",\"value\":\"green\"},\"line_alpha\":{\"type\":\"value\",\"value\":0.1},\"fill_color\":{\"type\":\"value\",\"value\":\"green\"},\"fill_alpha\":{\"type\":\"value\",\"value\":0.1},\"hatch_color\":{\"type\":\"value\",\"value\":\"green\"},\"hatch_alpha\":{\"type\":\"value\",\"value\":0.1},\"marker\":{\"type\":\"value\",\"value\":\"x\"}}},\"muted_glyph\":{\"type\":\"object\",\"name\":\"Scatter\",\"id\":\"p1120\",\"attributes\":{\"x\":{\"type\":\"field\",\"field\":\"maxb(2)\"},\"y\":{\"type\":\"field\",\"field\":\"end_total_charge\"},\"size\":{\"type\":\"value\",\"value\":10},\"line_color\":{\"type\":\"value\",\"value\":\"green\"},\"line_alpha\":{\"type\":\"value\",\"value\":0.2},\"fill_color\":{\"type\":\"value\",\"value\":\"green\"},\"fill_alpha\":{\"type\":\"value\",\"value\":0.2},\"hatch_color\":{\"type\":\"value\",\"value\":\"green\"},\"hatch_alpha\":{\"type\":\"value\",\"value\":0.2},\"marker\":{\"type\":\"value\",\"value\":\"x\"}}}}}],\"toolbar\":{\"type\":\"object\",\"name\":\"Toolbar\",\"id\":\"p1091\",\"attributes\":{\"tools\":[{\"type\":\"object\",\"name\":\"PanTool\",\"id\":\"p1104\"},{\"type\":\"object\",\"name\":\"WheelZoomTool\",\"id\":\"p1105\",\"attributes\":{\"renderers\":\"auto\"}},{\"type\":\"object\",\"name\":\"BoxZoomTool\",\"id\":\"p1106\",\"attributes\":{\"overlay\":{\"type\":\"object\",\"name\":\"BoxAnnotation\",\"id\":\"p1107\",\"attributes\":{\"syncable\":false,\"level\":\"overlay\",\"visible\":false,\"left\":{\"type\":\"number\",\"value\":\"nan\"},\"right\":{\"type\":\"number\",\"value\":\"nan\"},\"top\":{\"type\":\"number\",\"value\":\"nan\"},\"bottom\":{\"type\":\"number\",\"value\":\"nan\"},\"left_units\":\"canvas\",\"right_units\":\"canvas\",\"top_units\":\"canvas\",\"bottom_units\":\"canvas\",\"line_color\":\"black\",\"line_alpha\":1.0,\"line_width\":2,\"line_dash\":[4,4],\"fill_color\":\"lightgrey\",\"fill_alpha\":0.5}}}},{\"type\":\"object\",\"name\":\"SaveTool\",\"id\":\"p1112\"},{\"type\":\"object\",\"name\":\"ResetTool\",\"id\":\"p1113\"},{\"type\":\"object\",\"name\":\"HelpTool\",\"id\":\"p1114\"},{\"type\":\"object\",\"name\":\"HoverTool\",\"id\":\"p1082\",\"attributes\":{\"renderers\":\"auto\",\"tooltips\":[[\"index\",\"@index\"],[\"error\",\"@error\"],[\"end_mean_z\",\"@end_mean_z\"],[\"end_norm_emit_x\",\"@end_norm_emit_x\"],[\"end_core_emit_95percent_x\",\"@end_core_emit_95percent_x\"],[\"end_core_emit_90percent_x\",\"@end_core_emit_90percent_x\"],[\"end_core_emit_80percent_x\",\"@end_core_emit_80percent_x\"],[\"end_norm_emit_y\",\"@end_norm_emit_y\"],[\"end_core_emit_95percent_y\",\"@end_core_emit_95percent_y\"],[\"end_core_emit_90percent_y\",\"@end_core_emit_90percent_y\"],[\"end_core_emit_80percent_y\",\"@end_core_emit_80percent_y\"],[\"end_norm_emit_z\",\"@end_norm_emit_z\"],[\"end_core_emit_95percent_z\",\"@end_core_emit_95percent_z\"],[\"end_core_emit_905percent_z\",\"@end_core_emit_905percent_z\"],[\"end_core_emit_80percent_z\",\"@end_core_emit_80percent_z\"],[\"end_mean_t\",\"@end_mean_t\"],[\"end_mean_x\",\"@end_mean_x\"],[\"end_sigma_x\",\"@end_sigma_x\"],[\"end_sigma_xp\",\"@end_sigma_xp\"],[\"end_cov_x__xp\",\"@end_cov_x__xp\"],[\"end_mean_y\",\"@end_mean_y\"],[\"end_sigma_y\",\"@end_sigma_y\"],[\"end_sigma_yp\",\"@end_sigma_yp\"],[\"end_cov_y__yp\",\"@end_cov_y__yp\"],[\"end_mean_kinetic_energy\",\"@end_mean_kinetic_energy\"],[\"end_sigma_z\",\"@end_sigma_z\"],[\"end_sigma_energy\",\"@end_sigma_energy\"],[\"end_cov_z__energy\",\"@end_cov_z__energy\"],[\"end_n_particle_loss\",\"@end_n_particle_loss\"],[\"end_total_charge\",\"@end_total_charge\"],[\"end_higher_order_energy_spread\",\"@end_higher_order_energy_spread\"],[\"fingerprint\",\"@fingerprint\"],[\"archive\",\"@archive\"],[\"maxb(2)\",\"@maxb(2)\"],[\"Exception\",\"@Exception\"]]}}]}},\"left\":[{\"type\":\"object\",\"name\":\"LinearAxis\",\"id\":\"p1099\",\"attributes\":{\"ticker\":{\"type\":\"object\",\"name\":\"BasicTicker\",\"id\":\"p1100\",\"attributes\":{\"mantissas\":[1,2,5]}},\"formatter\":{\"type\":\"object\",\"name\":\"BasicTickFormatter\",\"id\":\"p1101\"},\"major_label_policy\":{\"type\":\"object\",\"name\":\"AllLabels\",\"id\":\"p1102\"}}}],\"below\":[{\"type\":\"object\",\"name\":\"LinearAxis\",\"id\":\"p1094\",\"attributes\":{\"ticker\":{\"type\":\"object\",\"name\":\"BasicTicker\",\"id\":\"p1095\",\"attributes\":{\"mantissas\":[1,2,5]}},\"formatter\":{\"type\":\"object\",\"name\":\"BasicTickFormatter\",\"id\":\"p1096\"},\"major_label_policy\":{\"type\":\"object\",\"name\":\"AllLabels\",\"id\":\"p1097\"}}}],\"center\":[{\"type\":\"object\",\"name\":\"Grid\",\"id\":\"p1098\",\"attributes\":{\"axis\":{\"id\":\"p1094\"},\"grid_line_dash\":[6,4]}},{\"type\":\"object\",\"name\":\"Grid\",\"id\":\"p1103\",\"attributes\":{\"dimension\":1,\"axis\":{\"id\":\"p1099\"},\"grid_line_dash\":[6,4]}}]}}]}};\n",
       "  const render_items = [{\"docid\":\"585c63dd-51d7-4349-bae1-432bf41ddd16\",\"roots\":{\"p1083\":\"c3ff731e-eefb-49c1-a1a8-45c0e90892cd\"},\"root_ids\":[\"p1083\"]}];\n",
       "  void root.Bokeh.embed.embed_items_notebook(docs_json, render_items);\n",
       "  }\n",
       "  if (root.Bokeh !== undefined) {\n",
       "    embed_document(root);\n",
       "  } else {\n",
       "    let attempts = 0;\n",
       "    const timer = setInterval(function(root) {\n",
       "      if (root.Bokeh !== undefined) {\n",
       "        clearInterval(timer);\n",
       "        embed_document(root);\n",
       "      } else {\n",
       "        attempts++;\n",
       "        if (attempts > 100) {\n",
       "          clearInterval(timer);\n",
       "          console.log(\"Bokeh: ERROR: Unable to run BokehJS code because BokehJS library is missing\");\n",
       "        }\n",
       "      }\n",
       "    }, 10, root)\n",
       "  }\n",
       "})(window);"
      ],
      "application/vnd.bokehjs_exec.v0+json": ""
     },
     "metadata": {
      "application/vnd.bokehjs_exec.v0+json": {
       "id": "p1083"
      }
     },
     "output_type": "display_data"
    }
   ],
   "source": [
    "hover = HoverTool()\n",
    "hover.tooltips=[(name, '@' + name) for name in source.column_names]\n",
    "\n",
    "plot = figure()\n",
    "plot.scatter(x=list(PARAMETERS.keys())[0], y='end_total_charge', source=source, marker='x', size=10, color='green')\n",
    "\n",
    "plot.add_tools(hover)\n",
    "plot.grid.grid_line_dash = [6, 4]\n",
    "\n",
    "show(plot)"
   ]
  },
  {
   "cell_type": "code",
   "execution_count": 55,
   "metadata": {},
   "outputs": [
    {
     "name": "stdout",
     "output_type": "stream",
     "text": [
      "[NbConvertApp] Converting notebook scan.ipynb to HTML\n",
      "[NbConvertApp] Writing 328904 bytes to scan.html\n"
     ]
    }
   ],
   "source": [
    "!jupyter nbconvert --to HTML scan.ipynb"
   ]
  },
  {
   "cell_type": "code",
   "execution_count": 56,
   "metadata": {},
   "outputs": [],
   "source": [
    "from astra import Astra"
   ]
  },
  {
   "cell_type": "code",
   "execution_count": 64,
   "metadata": {},
   "outputs": [],
   "source": [
    "AX = Astra.from_archive('./'+SCRATCH.name+'/'+os.listdir(SCRATCH.name)[0])"
   ]
  },
  {
   "cell_type": "code",
   "execution_count": 65,
   "metadata": {},
   "outputs": [
    {
     "data": {
      "text/plain": [
       "{'c_pos(1)': 0,\n",
       " 'c_pos(2)': 0,\n",
       " 'c_pos(3)': 0,\n",
       " 'c_pos(4)': 0.4,\n",
       " 'file_efield(1)': '3d_gun',\n",
       " 'file_efield(2)': '3d_pen',\n",
       " 'file_efield(3)': '3d_extr',\n",
       " 'file_efield(4)': '/home/jovyan/work/linac/buncher_1.dat',\n",
       " 'lefield': True,\n",
       " 'loop': False,\n",
       " 'maxe(1)': -3.28,\n",
       " 'maxe(2)': -0.71,\n",
       " 'maxe(3)': -1.5,\n",
       " 'maxe(4)': -13.0,\n",
       " 'nue(4)': 2.856,\n",
       " 'phi(4)': 0}"
      ]
     },
     "execution_count": 65,
     "metadata": {},
     "output_type": "execute_result"
    }
   ],
   "source": [
    "AX.input['cavity']"
   ]
  },
  {
   "cell_type": "code",
   "execution_count": null,
   "metadata": {},
   "outputs": [],
   "source": []
  }
 ],
 "metadata": {
  "kernelspec": {
   "display_name": "Python 3 (ipykernel)",
   "language": "python",
   "name": "python3"
  },
  "language_info": {
   "codemirror_mode": {
    "name": "ipython",
    "version": 3
   },
   "file_extension": ".py",
   "mimetype": "text/x-python",
   "name": "python",
   "nbconvert_exporter": "python",
   "pygments_lexer": "ipython3",
   "version": "3.11.9"
  },
  "vscode": {
   "interpreter": {
    "hash": "6d03fce94a11c73dea1695392ee56e7f433fe1c4db87f5351f52c08d53a6c5e5"
   }
  }
 },
 "nbformat": 4,
 "nbformat_minor": 4
}
